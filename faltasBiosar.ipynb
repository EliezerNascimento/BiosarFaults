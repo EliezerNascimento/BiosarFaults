{
 "cells": [
  {
   "cell_type": "markdown",
   "metadata": {},
   "source": [
    "# Faltas Biosar"
   ]
  },
  {
   "cell_type": "code",
   "execution_count": null,
   "metadata": {},
   "outputs": [],
   "source": [
    "# importando módulo\n",
    "from pandas import read_excel\n",
    "import numpy as np"
   ]
  },
  {
   "cell_type": "code",
   "execution_count": null,
   "metadata": {},
   "outputs": [],
   "source": [
    "# Import dataset into workspace\n",
    "df = read_excel('Errosefaltas.xlsx')"
   ]
  },
  {
   "cell_type": "code",
   "execution_count": null,
   "metadata": {},
   "outputs": [],
   "source": [
    "# Conveting Bit format to DataFrame string\n",
    "def bit(y):\n",
    "    if y == '0000000000000000':\n",
    "        y = \"Sem Faltas\"\n",
    "        return(y)\n",
    "    elif y == '0000000000000001':\n",
    "        y = 'B0'\n",
    "        return(y)\n",
    "    elif y == '0000000000000010':\n",
    "        y = 'B1'\n",
    "        return(y)\n",
    "    elif y == '0000000000000100':\n",
    "        y = 'B2'\n",
    "        return(y)\n",
    "    elif y == '0000000000001000':\n",
    "        y = 'B3'\n",
    "        return(y)\n",
    "    elif y == '0000000000010000':\n",
    "        y = 'B4'\n",
    "        return(y)    \n",
    "    elif y == '0000000000100000':\n",
    "        y = 'B5'\n",
    "        return(y)\n",
    "    elif y == '0000000001000000':\n",
    "        y = 'B6'\n",
    "        return(y)    \n",
    "    elif y == '0000000010000000':\n",
    "        y = 'B7'\n",
    "        return(y)\n",
    "    elif y == '0000000100000000':\n",
    "        y = 'B8'\n",
    "        return(y)\n",
    "    elif y == '0000001000000000':\n",
    "        y = 'B9'\n",
    "        return(y)\n",
    "    elif y == '0000010000000000':\n",
    "        y = 'B10'\n",
    "        return(y)\n",
    "    elif y == '0000100000000000':\n",
    "        y = 'B11'\n",
    "        return(y)\n",
    "    elif y == '0001000000000000':\n",
    "        y = 'B12'\n",
    "        return(y)\n",
    "    elif y == '0010000000000000':\n",
    "        y = 'B13'\n",
    "        return(y)\n",
    "    elif y == '0100000000000000':\n",
    "        y = 'B14'\n",
    "        return(y)\n",
    "    elif y == '1000000000000000':\n",
    "        y = 'B15'\n",
    "        return(y)\n",
    "    else:\n",
    "          print(\"Bit desconhecido!\")\n",
    "              ## colocar um retorno ao início ##"
   ]
  },
  {
   "cell_type": "code",
   "execution_count": null,
   "metadata": {
    "scrolled": false
   },
   "outputs": [],
   "source": [
    "# Reading User's input\n",
    "print(\"\\n N - Não iniciou \\n P - Parou\")\n",
    "stat = input(\"A planta não iniciou ou parou? \")\n",
    "stat = str.lower(stat)\n",
    "if (stat == \"n\"):\n",
    "    stat = \"Não iniciou\"\n",
    "elif (stat == \"p\"):\n",
    "    stat = \"Parou\"\n",
    "else:\n",
    "    print(\"Vamos lá! Nos deixe saber se planta não iniciou ou parou.\")"
   ]
  },
  {
   "cell_type": "code",
   "execution_count": null,
   "metadata": {},
   "outputs": [],
   "source": [
    "inv_all = input(\"Cole o título do inversor aqui: \")\n",
    "inv_all = str.lower(inv_all)\n",
    "if (inv_all.startswith(\"p\",9,10) == True):\n",
    "    plant = 'Pirapora'\n",
    "    inverter = ' '.join(inv_all.split()[1:2])\n",
    "    inverter = inverter.replace('-inverter', '')#COMO COLOCAR ISSO DENTRO DE UM DEF() E FAZER COM QUE AS VARIÁVEIS SEJAM GLOBAIS?\n",
    "    inverter = str.upper(inverter)\n",
    "elif (inv_all.startswith(\"gui\",9,12) == True):\n",
    "    plant = 'GUI'\n",
    "    inverter = ' '.join(inv_all.split()[1:2])\n",
    "    inverter = inverter.replace('-inverter', '')#COMO COLOCAR ISSO DENTRO DE UM DEF() E FAZER COM QUE AS VARIÁVEIS SEJAM GLOBAIS?\n",
    "    inverter = str.upper(inverter)\n",
    "else:\n",
    "    print('Você não digitou uma planta válida!')\n",
    "\n",
    "bitText = input(\"Cole aqui o texto completo: \")\n",
    "bitText = str(bitText)   "
   ]
  },
  {
   "cell_type": "code",
   "execution_count": null,
   "metadata": {},
   "outputs": [],
   "source": [
    "# Inverter P06-INV-6-1-Inverter error log 2\n",
    "# Inverter GUI1-INV-13-01-Inverter error log 1"
   ]
  },
  {
   "cell_type": "code",
   "execution_count": null,
   "metadata": {},
   "outputs": [],
   "source": [
    "bitText = bitText.replace('register:', '')"
   ]
  },
  {
   "cell_type": "code",
   "execution_count": null,
   "metadata": {},
   "outputs": [],
   "source": [
    "# Fault1 register:0000000000000100"
   ]
  },
  {
   "cell_type": "code",
   "execution_count": null,
   "metadata": {
    "scrolled": true
   },
   "outputs": [],
   "source": [
    "# split fault text\n",
    "fault, register = bitText.split(' ', 1)"
   ]
  },
  {
   "cell_type": "code",
   "execution_count": null,
   "metadata": {},
   "outputs": [],
   "source": [
    "plant"
   ]
  },
  {
   "cell_type": "code",
   "execution_count": null,
   "metadata": {},
   "outputs": [],
   "source": [
    "bit(register)"
   ]
  },
  {
   "cell_type": "code",
   "execution_count": null,
   "metadata": {},
   "outputs": [],
   "source": [
    "q = str (\"Planta == '{0}' & Falta == '{1}'& Bit == '{2}'\").format(plant, fault, bit(register))"
   ]
  },
  {
   "cell_type": "code",
   "execution_count": null,
   "metadata": {},
   "outputs": [],
   "source": [
    "# trying to get the values and\n",
    "# filtering with query method\n",
    "if (plant == \"Pirapora\"):\n",
    "    df1 = df.query(q)\n",
    "    print(\" Inverter\", inverter, stat, \" \\n\", df1.Mensagem.to_string(index=False)) #Printing fault Message\n",
    "elif (plant == \"GUI\"):\n",
    "    df1 = df.query(q)\n",
    "    print(\" Inverter\", inverter, stat, \" \\n\", df1.Mensagem.to_string(index=False)) #Printing fault Message\n",
    "else:\n",
    "    print(\"Não foi possível identificar o nome da falta.\\n Tente novamente por favor. \\n Obrigado!\")"
   ]
  },
  {
   "cell_type": "code",
   "execution_count": null,
   "metadata": {},
   "outputs": [],
   "source": []
  }
 ],
 "metadata": {
  "kernelspec": {
   "display_name": "Python 3",
   "language": "python",
   "name": "python3"
  },
  "language_info": {
   "codemirror_mode": {
    "name": "ipython",
    "version": 3
   },
   "file_extension": ".py",
   "mimetype": "text/x-python",
   "name": "python",
   "nbconvert_exporter": "python",
   "pygments_lexer": "ipython3",
   "version": "3.6.5"
  }
 },
 "nbformat": 4,
 "nbformat_minor": 2
}
