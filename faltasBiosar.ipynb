{
 "cells": [
  {
   "cell_type": "markdown",
   "metadata": {},
   "source": [
    "# Faltas Biosar"
   ]
  },
  {
   "cell_type": "code",
   "execution_count": null,
   "metadata": {},
   "outputs": [],
   "source": [
    "# importando módulo\n",
    "from pandas import DataFrame"
   ]
  },
  {
   "cell_type": "code",
   "execution_count": null,
   "metadata": {},
   "outputs": [],
   "source": [
    "# Import dataset into workspace\n",
    "# df = pd.read_excel('Errosefaltas.xlsx')"
   ]
  },
  {
   "cell_type": "code",
   "execution_count": null,
   "metadata": {},
   "outputs": [],
   "source": [
    "def idplant(x):\n",
    "    if x == 'p':\n",
    "        x = 'Pirapora'\n",
    "        return(x)\n",
    "    elif x == \"g\":\n",
    "        x = 'GUI'\n",
    "        return(x)\n",
    "    else:\n",
    "        print(\"Planta desconhecida!\")\n",
    "        # colocar um fim para o script ou retorno ao inicio #"
   ]
  },
  {
   "cell_type": "code",
   "execution_count": null,
   "metadata": {},
   "outputs": [],
   "source": [
    "# Conveting Bit format to DataFrame string\n",
    "def bit(y):\n",
    "    if y == '0000000000000000':\n",
    "        y = \"Sem Faltas\"\n",
    "        return(y)\n",
    "    elif y == '0000000000000001':\n",
    "        y = 'B0'\n",
    "        return(y)\n",
    "    elif y == '0000000000000010':\n",
    "        y = 'B1'\n",
    "        return(y)\n",
    "    elif y == '0000000000000100':\n",
    "        y = 'B2'\n",
    "        return(y)\n",
    "    elif y == '0000000000001000':\n",
    "        y = 'B3'\n",
    "        return(y)\n",
    "    elif y == '0000000000010000':\n",
    "        y = 'B4'\n",
    "        return(y)    \n",
    "    elif y == '0000000000100000':\n",
    "        y = 'B5'\n",
    "        return(y)\n",
    "    elif y == '0000000001000000':\n",
    "        y = 'B6'\n",
    "        return(y)    \n",
    "    elif y == '0000000010000000':\n",
    "        y = 'B7'\n",
    "        return(y)\n",
    "    elif y == '0000000100000000':\n",
    "        y = 'B8'\n",
    "        return(y)\n",
    "    elif y == '0000001000000000':\n",
    "        y = 'B9'\n",
    "        return(y)\n",
    "    elif y == '0000010000000000':\n",
    "        y = 'B10'\n",
    "        return(y)\n",
    "    elif y == '0000100000000000':\n",
    "        y = 'B11'\n",
    "        return(y)\n",
    "    elif y == '0001000000000000':\n",
    "        y = 'B12'\n",
    "        return(y)\n",
    "    elif y == '0010000000000000':\n",
    "        y = 'B13'\n",
    "        return(y)\n",
    "    elif y == '0100000000000000':\n",
    "        y = 'B14'\n",
    "        return(y)\n",
    "    elif y == '1000000000000000':\n",
    "        y = 'B15'\n",
    "        return(y)\n",
    "    else:\n",
    "          print(\"Bit desconhecido!\")\n",
    "              ## colocar um retorno ao início ##"
   ]
  },
  {
   "cell_type": "code",
   "execution_count": null,
   "metadata": {},
   "outputs": [],
   "source": [
    "pir_df = DataFrame({'Planta':['Pirapora','Pirapora','Pirapora','Pirapora','Pirapora','Pirapora','Pirapora','Pirapora','Pirapora','Pirapora','Pirapora',\n",
    "                                 'Pirapora','Pirapora','Pirapora','Pirapora','Pirapora','Pirapora','Pirapora','Pirapora','Pirapora','Pirapora','Pirapora',\n",
    "                                 'Pirapora','Pirapora','Pirapora','Pirapora','Pirapora','Pirapora','Pirapora','Pirapora','Pirapora','Pirapora','Pirapora',\n",
    "                                 'Pirapora','Pirapora','Pirapora','Pirapora','Pirapora','Pirapora','Pirapora','Pirapora','Pirapora','Pirapora','Pirapora',\n",
    "                                 'Pirapora','Pirapora','Pirapora','Pirapora','Pirapora','Pirapora','Pirapora','Pirapora','Pirapora','Pirapora','Pirapora',\n",
    "                                 'Pirapora','Pirapora','Pirapora','Pirapora','Pirapora','Pirapora','Pirapora','Pirapora','Pirapora','Pirapora','Pirapora',\n",
    "                                 'Pirapora','Pirapora','Pirapora','Pirapora','Pirapora','Pirapora','Pirapora','Pirapora','Pirapora','Pirapora','Pirapora',\n",
    "                                 'Pirapora','Pirapora','Pirapora','Pirapora','Pirapora','Pirapora','Pirapora','Pirapora','Pirapora','Pirapora','Pirapora',\n",
    "                                 'Pirapora','Pirapora','Pirapora','Pirapora','Pirapora','Pirapora','Pirapora','Pirapora','Pirapora','Pirapora','Pirapora',\n",
    "                                 'Pirapora','Pirapora','Pirapora','Pirapora','Pirapora','Pirapora','Pirapora','Pirapora','Pirapora','Pirapora','Pirapora',\n",
    "                                 'Pirapora','Pirapora','Pirapora','Pirapora','Pirapora','Pirapora','Pirapora','Pirapora','Pirapora','Pirapora','Pirapora',\n",
    "                                 'Pirapora','Pirapora','Pirapora','Pirapora','Pirapora','Pirapora','Pirapora','Pirapora','Pirapora','Pirapora','Pirapora',\n",
    "                                 'Pirapora','Pirapora','Pirapora','Pirapora','Pirapora','Pirapora','Pirapora','Pirapora','Pirapora','Pirapora','Pirapora',\n",
    "                                 'Pirapora'],\n",
    "                     'Falta':['Fault1','Fault1','Fault1','Fault1','Fault1','Fault1','Fault1','Fault1','Fault1','Fault1','Fault1','Fault1','Fault1','Fault1','Fault1','Fault1',\n",
    "                              'Fault2','Fault2','Fault2','Fault2','Fault2','Fault2','Fault2','Fault2','Fault2','Fault2','Fault2','Fault2','Fault2','Fault2','Fault2','Fault2',\n",
    "                              'Fault3','Fault3','Fault3','Fault3','Fault3','Fault3','Fault3','Fault3','Fault3','Fault3','Fault3','Fault3','Fault3','Fault3','Fault3','Fault3',\n",
    "                              'Fault4','Fault4','Fault4','Fault4','Fault4','Fault4','Fault4','Fault4','Fault4','Fault4','Fault4','Fault4','Fault4','Fault4','Fault4','Fault4',\n",
    "                              'Warning1','Warning1','Warning1','Warning1','Warning1','Warning1','Warning1','Warning1','Warning1','Warning1','Warning1','Warning1','Warning1',\n",
    "                              'Warning1','Warning1','Warning1','Warning2','Warning2','Warning2','Warning2','Warning2','Warning2','Warning2','Warning2','Warning2','Warning2',\n",
    "                              'Warning2','Warning2','Warning2','Warning2','Warning2','Warning2','Warning3','Warning3','Warning3','Warning3','Warning3','Warning3','Warning3',\n",
    "                              'Warning3','Warning3','Warning3','Warning3','Warning3','Warning3','Warning3','Warning3','Warning3','Status1','Status1','Status1','Status1',\n",
    "                              'Status1','Status1','Status1','Status1','Status1','Status1','Status1','Status1','Status1','Status1','Status1','Status1','Status2','Status2',\n",
    "                              'Status2','Status2','Status2','Status2','Status2','Status2','Status2','Status2','Status2','Status2','Status2','Status2','Status2','Status2'],\n",
    "                      'Bit':['B0','B1','B2','B3','B4','B5','B6','B7','B8','B9','B10','B11','B12','B13','B14','B15','B0','B1','B2','B3','B4','B5',\n",
    "                             'B6','B7','B8','B9','B10','B11','B12','B13','B14','B15','B0','B1','B2','B3','B4','B5','B6','B7','B8','B9','B10','B11',\n",
    "                             'B12','B13','B14','B15','B0','B1','B2','B3','B4','B5','B6','B7','B8','B9','B10','B11','B12','B13','B14','B15','B0','B1',\n",
    "                             'B2','B3','B4','B5','B6','B7','B8','B9','B10','B11','B12','B13','B14','B15','B0','B1','B2','B3','B4','B5','B6','B7','B8',\n",
    "                             'B9','B10','B11','B12','B13','B14','B15','B0','B1','B2','B3','B4','B5','B6','B7','B8','B9','B10','B11','B12','B13','B14',\n",
    "                             'B15','B0','B1','B2','B3','B4','B5','B6','B7','B8','B9','B10','B11','B12','B13','B14','B15','B0','B1','B2','B3','B4','B5',\n",
    "                             'B6','B7','B8','B9','B10','B11','B12','B13','B14','B15'],\n",
    "                      'Mensagem':['ECAT operation fault','FPGA version wrong','PIB watchdog fault','DC-Link overvoltage','Float controller fault',\n",
    "                                  'DC-Link short circuit','Pole grounding','Not used','IGBT VCE desaturation fault','Not used','IGBT feedback fault',\n",
    "                                  'Not used','Not used','Not used','Not used','Not used','PIB internal power supply','PIB measurement connector','Not used',\n",
    "                                  'PIB amplifier connection','PIB terminal supply','Current clipping timeout','Short circuit','Not used',\n",
    "                                  'Heat sink over-temperature','24V terminal supply short circuit','Fieldbus connection fault',\n",
    "                                  'Battery synchronisation fault','Short-Circuit-To-Earth','DC-link under-voltage','Not used',\n",
    "                                  'Not used','Line voltage fault','Line voltage measurement','AC-Circuit breaker tripped',\n",
    "                                  'Feedback AC circuit breaker','Precharging failed','Line filter','Feedback discharging contactor',\n",
    "                                  'Feedback DC circuit breaker','Amplifier board contactor','DC current direction fault (reverse Idc)',\n",
    "                                  'UPS fault','Feedback PV short circuit breaker','Not used','Not used','Not used','Not used',\n",
    "                                  'Heat sink temperature measurement','Heat sink under-temperature','External fan','Power electronics cubicle fan',\n",
    "                                  'Line inductor fan','Cooling water over-temperature','Cooling water pressure fault','Cooling water pump fault',\n",
    "                                  'Water heating/cooling fault','Power electronics cubicle over-temperature','Line inductor cubicle over-temperature',\n",
    "                                  'MV Transformer fault','Isolation fault','Not used','Auxiliary supply fault','Fluid cooling system fault',\n",
    "                                  'Heat sink over-temperature','Earth current','Line under voltage','Cooling water over-temperature',\n",
    "                                  'Cooling water pressure','Water pressure sensor','Water heating','Fuse discharging resistor','Cubicle heater',\n",
    "                                  'Power electronics cubicle over-temperature','Line inductor over-temperature','Not used','Switching cycle AC-Breaker (daily)',\n",
    "                                  'Pole grounding','Contactor pole grounding','Transformer over-temperature','CPU board over-temperature','CPU core over-temperature',\n",
    "                                  'Unbalanced DC-Link','Fan lifetime exceeded','dc-link voltage oscillation','Water inlet temperature sensor','Outside temperature sensor',\n",
    "                                  'Line inductor temperature sensor','Power electronics cubicle temperature sensor','Shut down with local/remote changeover',\n",
    "                                  'Disconnection from PV generator','Inaccurate power measurement for MPPT','External fan','Fieldbus warning','AC Breaker switching cycle exceeded',\n",
    "                                  'DC Breaker switching cycle exceeded','Isolation warning','Float controller warning','Over voltage protection','Not used','Not used',\n",
    "                                  'Not used','Not used','Not used','Not used','Not used','Not used','Not used','Not used','Not used','Not used','Not used','Ready to switch ON',\n",
    "                                  'Switched ON (power ok)','Operation enabled (RUN)','Fault present','Voltage enabled (drive released)','Quick stop active','Switching ON disabled','Warning present','Line loss',\n",
    "                                  'Remote','DC circuit breaker ON','Internal limit active','FRT','Converter test mode','Internal alive toggle','Bus alive toggle','B0 Manual stop','B1 Automatic mode','Waiting',\n",
    "                                  'Cooling initialization','PV-mode','MPP search','MPP reached','PV Power reduction','VAR at night mode','ECAT operational','Buttery operating mode','Synchronization achieved',\n",
    "                                  'Not used','Not used','Not used','Emergency OFF']})\n"
   ]
  },
  {
   "cell_type": "code",
   "execution_count": null,
   "metadata": {},
   "outputs": [],
   "source": [
    "gui_df = DataFrame({'Planta':['GUI','GUI','GUI','GUI','GUI','GUI','GUI','GUI','GUI','GUI','GUI','GUI','GUI','GUI','GUI','GUI','GUI','GUI','GUI','GUI','GUI','GUI','GUI','GUI','GUI','GUI','GUI','GUI','GUI','GUI','GUI','GUI','GUI','GUI','GUI','GUI','GUI','GUI','GUI','GUI','GUI','GUI','GUI','GUI','GUI','GUI','GUI','GUI','GUI','GUI','GUI','GUI','GUI','GUI','GUI','GUI','GUI','GUI','GUI','GUI','GUI','GUI','GUI','GUI','GUI','GUI','GUI','GUI','GUI','GUI','GUI','GUI','GUI','GUI','GUI','GUI','GUI','GUI','GUI','GUI','GUI','GUI','GUI','GUI','GUI','GUI','GUI','GUI','GUI','GUI','GUI','GUI','GUI','GUI','GUI','GUI','GUI','GUI','GUI','GUI','GUI','GUI','GUI','GUI','GUI','GUI','GUI','GUI','GUI','GUI','GUI','GUI','GUI','GUI','GUI','GUI','GUI','GUI','GUI','GUI','GUI','GUI','GUI','GUI','GUI','GUI','GUI','GUI','GUI','GUI','GUI','GUI','GUI','GUI','GUI','GUI','GUI','GUI','GUI','GUI','GUI','GUI','GUI','GUI','GUI'],\n",
    "                      'Falta':['Fault1','Fault1','Fault1','Fault1','Fault1','Fault1','Fault1','Fault1','Fault1','Fault1','Fault1','Fault1','Fault1','Fault1','Fault1','Fault1',\n",
    "                              'Fault2','Fault2','Fault2','Fault2','Fault2','Fault2','Fault2','Fault2','Fault2','Fault2','Fault2','Fault2','Fault2','Fault2','Fault2','Fault2',\n",
    "                              'Fault3','Fault3','Fault3','Fault3','Fault3','Fault3','Fault3','Fault3','Fault3','Fault3','Fault3','Fault3','Fault3','Fault3','Fault3','Fault3',\n",
    "                              'Fault4','Fault4','Fault4','Fault4','Fault4','Fault4','Fault4','Fault4','Fault4','Fault4','Fault4','Fault4','Fault4','Fault4','Fault4','Fault4',\n",
    "                              'Warning1','Warning1','Warning1','Warning1','Warning1','Warning1','Warning1','Warning1','Warning1','Warning1','Warning1','Warning1','Warning1',\n",
    "                              'Warning1','Warning1','Warning1','Warning2','Warning2','Warning2','Warning2','Warning2','Warning2','Warning2','Warning2','Warning2','Warning2',\n",
    "                              'Warning2','Warning2','Warning2','Warning2','Warning2','Warning2','Warning3','Warning3','Warning3','Warning3','Warning3','Warning3','Warning3',\n",
    "                              'Warning3','Warning3','Warning3','Warning3','Warning3','Warning3','Warning3','Warning3','Warning3','Status1','Status1','Status1','Status1',\n",
    "                              'Status1','Status1','Status1','Status1','Status1','Status1','Status1','Status1','Status1','Status1','Status1','Status1','Status2','Status2',\n",
    "                              'Status2','Status2','Status2','Status2','Status2','Status2','Status2','Status2','Status2','Status2','Status2','Status2','Status2','Status2','Status3'],\n",
    "                      'Bit':['B0','B1','B2','B3','B4','B5','B6','B7','B8','B9','B10','B11','B12','B13','B14','B15','B0','B1','B2','B3','B4','B5',\n",
    "                             'B6','B7','B8','B9','B10','B11','B12','B13','B14','B15','B0','B1','B2','B3','B4','B5','B6','B7','B8','B9','B10','B11',\n",
    "                             'B12','B13','B14','B15','B0','B1','B2','B3','B4','B5','B6','B7','B8','B9','B10','B11','B12','B13','B14','B15','B0','B1',\n",
    "                             'B2','B3','B4','B5','B6','B7','B8','B9','B10','B11','B12','B13','B14','B15','B0','B1','B2','B3','B4','B5','B6','B7','B8',\n",
    "                             'B9','B10','B11','B12','B13','B14','B15','B0','B1','B2','B3','B4','B5','B6','B7','B8','B9','B10','B11','B12','B13','B14',\n",
    "                             'B15','B0','B1','B2','B3','B4','B5','B6','B7','B8','B9','B10','B11','B12','B13','B14','B15','B0','B1','B2','B3','B4','B5',\n",
    "                             'B6','B7','B8','B9','B10','B11','B12','B13','B14','B15','B0'],\n",
    "                      'Mensagem':['ECAT fault','FPGA version','PIB Watchdog','DC-Link overvoltage','Flaat controller','DC-Link short circuit','Pole grounding',\n",
    "                                    'not used','IGBT desaturation','not used','IGBT Feedback','not used','not used','PIB Central fault','not used','not used',\n",
    "                                  'PIB internal Power Supply','Short Firing','not used','Amplifier Connector','not used','Current Clipping Timeout','Short Circuit','not used','Heat Sink Over temperature',\n",
    "                                     'terminal Supply 24V','Fieldbus fault','Battery Synchronisation Fault','Earth Fault','DC-Link Under Voltage','not used','not used',\n",
    "                                     'Line voltage','Line voltage measurement','AC circuit breaker','FB AC circuit breaker','Pre-charging failed','Line filter','Discharging failed',\n",
    "                                     'Feedback DC circuit breaker','Amplifier board contactor','DC current direction','UPS','FB PV short circuit breaker','Isolation fault','Max Output Frequency',\n",
    "                                     'FPGA Firing','PIB hardware configuration','Heat Sink temperature measurement','Low heat Sink temperature','External fan','Cubicle fan','Auxiliary supply',\n",
    "                                     'Water over temperature','Water pressure','Water pump','initial water heating, initial cooling','Cubicle over temperature','Line inductor over temperature',\n",
    "                                     'MV transformer vacuum','MV transformer pressure','Mv transformer oil level','MV transformer temperature','FCS','Heat Sink over temperature','Earth fault','Line under voltage',\n",
    "                                     'Water over temperature','Water pressure','Water pressure sensor','Water heating','Fuse discharging resistor','Cubicle heater','PE cubicle over temperature','Line inductor over temperature',\n",
    "                                     'not used','Pole grounding over current level 1','Pole grounding over current level 2','Pole grounding Feedback contactor','Pole grounding fuse','CPU board over temperature','CPU core over temperature',\n",
    "                                     'Unbalanced dc-link voltage','Fan life time exceeded','dc-link voltage ocillation','Water temperature sensor','Outside temperature sensor','Line inductor temperature sensor','PE cubicle temperature sensor',\n",
    "                                     'Shut down with Local/Remote change-over','Disconnection from PV genertion','inaccurate power measurement for MPPT','External fan*','Switching cycle AC circuit breaker','AC breaker life time exceeded','DC breaker life time exceeded',\n",
    "                                     'Isolation warning','Float controller','Over voltage protection','not used','not used','Filter cubicle fan','not used','Cubicle temperature warning','SRAM Backup Failure','Fieldbus warning','MV transformer over temperature',\n",
    "                                     'Isolation sensor','CPU Synchronization','External Power reference','not used ','not used','Ready to switch ON','Switched ON (power ok)','Operation enbled (RUN)','Faul present','Voltage enabled (drive released)','Quick stop active',\n",
    "                                     'Swiitching ON disabled','Warning present','Line loss','Remote','DC circuit breaker ON','Internal limit active','FRT','Converter test mode','Internal alive toggle','Bus alive toggle','Manual stop','Automatic mode','Waiting',\n",
    "                                     'Cooling initialization','PV-mode','MPP search','MPP reached','PV Power reduction','VAR at night mode','ECAT operational','Battery operating mode','Synchronization achieved','not used','not used','Isolation monitoring procedure','Hard trip','DC Circuit Breaker Test']})"
   ]
  },
  {
   "cell_type": "code",
   "execution_count": null,
   "metadata": {
    "scrolled": false
   },
   "outputs": [],
   "source": [
    "# Reading User's input\n",
    "print(\"\\n P - Pirapora \\n G - Guimarania\")\n",
    "plant = input(\"Digite a letra referente a planta: \")\n",
    "plant = str.lower(plant)\n",
    "if(plant == \"p\" or plant == \"g\"):\n",
    "    bitText = input(\"Cole aqui o texto completo: \")\n",
    "    bitText = str(bitText)\n",
    "else:\n",
    "    print(\"Você não digitou uma planta válida!\")"
   ]
  },
  {
   "cell_type": "code",
   "execution_count": null,
   "metadata": {},
   "outputs": [],
   "source": [
    "# Fault1 register:0000000000000100"
   ]
  },
  {
   "cell_type": "code",
   "execution_count": null,
   "metadata": {},
   "outputs": [],
   "source": [
    "bitText = bitText.replace('register:', '')"
   ]
  },
  {
   "cell_type": "code",
   "execution_count": null,
   "metadata": {
    "scrolled": true
   },
   "outputs": [],
   "source": [
    "# split fault text\n",
    "fault, register = bitText.split(' ', 1)"
   ]
  },
  {
   "cell_type": "code",
   "execution_count": null,
   "metadata": {},
   "outputs": [],
   "source": [
    "idplant(plant)"
   ]
  },
  {
   "cell_type": "code",
   "execution_count": null,
   "metadata": {},
   "outputs": [],
   "source": [
    "bit(register)"
   ]
  },
  {
   "cell_type": "code",
   "execution_count": null,
   "metadata": {},
   "outputs": [],
   "source": [
    "q = str (\"Planta == '{0}' & Falta == '{1}'& Bit == '{2}'\").format(idplant(plant), fault, bit(register))"
   ]
  },
  {
   "cell_type": "code",
   "execution_count": null,
   "metadata": {},
   "outputs": [],
   "source": [
    "# trying to get the values and\n",
    "# filtering with query method\n",
    "if idplant(plant) == \"Pirapora\":\n",
    "    df1 = pir_df.query(q)\n",
    "    print(df1.Mensagem.to_string(index=False)) #Printing fault Message\n",
    "elif idplant(plant) == \"GUI\":\n",
    "    df1 = gui_df.query(q)\n",
    "    print(df1.Mensagem.to_string(index=False)) #Printing fault Message\n",
    "else:\n",
    "    print(\"Não foi possível identificar o nome da falta.\\n Tente novamente por favor. \\n Obrigado!\")"
   ]
  }
 ],
 "metadata": {
  "kernelspec": {
   "display_name": "Python 3",
   "language": "python",
   "name": "python3"
  },
  "language_info": {
   "codemirror_mode": {
    "name": "ipython",
    "version": 3
   },
   "file_extension": ".py",
   "mimetype": "text/x-python",
   "name": "python",
   "nbconvert_exporter": "python",
   "pygments_lexer": "ipython3",
   "version": "3.6.5"
  }
 },
 "nbformat": 4,
 "nbformat_minor": 2
}
