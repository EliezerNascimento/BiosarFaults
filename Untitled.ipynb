{
 "cells": [
  {
   "cell_type": "code",
   "execution_count": 21,
   "metadata": {},
   "outputs": [],
   "source": [
    "# importando módulo\n",
    "#from pandas import DataFrame\n",
    "import numpy as np"
   ]
  },
  {
   "cell_type": "code",
   "execution_count": null,
   "metadata": {},
   "outputs": [],
   "source": [
    "#def idplant(x):\n",
    "#    if x == 'p':\n",
    "#        x = 'Pirapora'\n",
    "#        return(x)\n",
    "#    elif x == \"g\":\n",
    "#        x = 'GUI'\n",
    "#        return(x)\n",
    "#    else:\n",
    "#        print(\"Planta desconhecida!\")\n",
    "#        # colocar um fim para o script ou retorno ao inicio #"
   ]
  },
  {
   "cell_type": "code",
   "execution_count": 36,
   "metadata": {},
   "outputs": [
    {
     "name": "stdout",
     "output_type": "stream",
     "text": [
      "Cole o título do inversor aqui: Inverter GUI1-INV-13-01-Inverter error log 1\n",
      "inverter gui1-inv-13-01-inverter error log 1\n"
     ]
    }
   ],
   "source": [
    "inv_all = input(\"Cole o título do inversor aqui: \")\n",
    "inv_all = str.lower(inv_all)\n",
    "print(inv_all)"
   ]
  },
  {
   "cell_type": "code",
   "execution_count": null,
   "metadata": {},
   "outputs": [],
   "source": [
    "# Inverter P06-INV-6-1-Inverter error log 2\n",
    "# Inverter GUI1-INV-13-01-Inverter error log 1"
   ]
  },
  {
   "cell_type": "code",
   "execution_count": 40,
   "metadata": {},
   "outputs": [
    {
     "name": "stdout",
     "output_type": "stream",
     "text": [
      "GUI GUI1-INV-13-01\n"
     ]
    }
   ],
   "source": [
    "if (inv_all.startswith(\"p\",9,10) == True):\n",
    "    plant = 'Pirapora'\n",
    "    inverter = ' '.join(inv_all.split()[1:2])\n",
    "    inverter = inverter.replace('-inverter', '')\n",
    "    inverter = str.upper(inverter)\n",
    "    bitText = input(\"Cole aqui o texto completo: \")\n",
    "    bitText = str(bitText)    \n",
    "elif (inv_all.startswith(\"gui\",9,12) == True):\n",
    "    plant = 'GUI'\n",
    "    inverter = ' '.join(inv_all.split()[1:2])\n",
    "    inverter = inverter.replace('-inverter', '')\n",
    "    inverter = str.upper(inverter)\n",
    "    bitText = input(\"Cole aqui o texto completo: \")\n",
    "    bitText = str(bitText)\n",
    "else:\n",
    "    print('Você não digitou uma planta válida!')"
   ]
  },
  {
   "cell_type": "code",
   "execution_count": 45,
   "metadata": {},
   "outputs": [],
   "source": []
  },
  {
   "cell_type": "code",
   "execution_count": 43,
   "metadata": {},
   "outputs": [
    {
     "ename": "SyntaxError",
     "evalue": "'return' outside function (<ipython-input-43-3a623d0f15a9>, line 1)",
     "output_type": "error",
     "traceback": [
      "\u001b[1;36m  File \u001b[1;32m\"<ipython-input-43-3a623d0f15a9>\"\u001b[1;36m, line \u001b[1;32m1\u001b[0m\n\u001b[1;33m    return(tud)\u001b[0m\n\u001b[1;37m               ^\u001b[0m\n\u001b[1;31mSyntaxError\u001b[0m\u001b[1;31m:\u001b[0m 'return' outside function\n"
     ]
    }
   ],
   "source": []
  }
 ],
 "metadata": {
  "kernelspec": {
   "display_name": "Python 3",
   "language": "python",
   "name": "python3"
  },
  "language_info": {
   "codemirror_mode": {
    "name": "ipython",
    "version": 3
   },
   "file_extension": ".py",
   "mimetype": "text/x-python",
   "name": "python",
   "nbconvert_exporter": "python",
   "pygments_lexer": "ipython3",
   "version": "3.6.5"
  }
 },
 "nbformat": 4,
 "nbformat_minor": 2
}
